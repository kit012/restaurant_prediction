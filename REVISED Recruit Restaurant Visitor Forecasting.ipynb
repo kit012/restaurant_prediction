{
 "cells": [
  {
   "cell_type": "markdown",
   "metadata": {},
   "source": [
    "### Useful link: \n",
    "#### [scikit-learn](http://scikit-learn.org/stable/) "
   ]
  },
  {
   "cell_type": "markdown",
   "metadata": {},
   "source": [
    "### Import all data from csv"
   ]
  },
  {
   "cell_type": "code",
   "execution_count": 1,
   "metadata": {
    "collapsed": true
   },
   "outputs": [],
   "source": [
    "%matplotlib notebook\n",
    "\n",
    "import pandas as pd # data processing, CSV file I/O (e.g. pd.read_csv)\n",
    "import numpy as np\n",
    "import matplotlib.pyplot as plt\n",
    "from datetime import datetime\n",
    "\n",
    "data_air_reserve = pd.read_csv('data/air_reserve.csv')\n",
    "data_air_store_info = pd.read_csv('data/air_store_info.csv')\n",
    "data_air_visit_data = pd.read_csv('data/air_visit_data.csv')\n",
    "data_date_info = pd.read_csv('data/date_info.csv')\n",
    "data_hpg_reserve = pd.read_csv('data/hpg_reserve.csv')\n",
    "data_hpg_store_info = pd.read_csv('data/hpg_store_info.csv')\n",
    "data_sample_submission = pd.read_csv('data/sample_submission.csv')\n",
    "data_store_id_relation = pd.read_csv('data/store_id_relation.csv')"
   ]
  },
  {
   "cell_type": "markdown",
   "metadata": {},
   "source": [
    "### Count # of restaurants group by area and dishes \n",
    ">p.s. It shows all data when removing _.info()_ <br/> Use _.head()_ or _.tail()_ to show first/last 5 rows"
   ]
  },
  {
   "cell_type": "code",
   "execution_count": 2,
   "metadata": {
    "collapsed": false
   },
   "outputs": [
    {
     "name": "stdout",
     "output_type": "stream",
     "text": [
      "<class 'pandas.core.frame.DataFrame'>\n",
      "MultiIndex: 244 entries, (Fukuoka-ken Fukuoka-shi Daimyō, Bar/Cocktail) to (Ōsaka-fu Ōsaka-shi Ōhiraki, Izakaya)\n",
      "Data columns (total 3 columns):\n",
      "air_store_id    244 non-null int64\n",
      "latitude        244 non-null int64\n",
      "longitude       244 non-null int64\n",
      "dtypes: int64(3)\n",
      "memory usage: 7.6+ KB\n"
     ]
    }
   ],
   "source": [
    "data_air_store_info.groupby(['air_area_name', 'air_genre_name']).agg('count').info()"
   ]
  },
  {
   "cell_type": "markdown",
   "metadata": {},
   "source": [
    "### To find number of _hpg_store_id_ in hpg_reserve"
   ]
  },
  {
   "cell_type": "code",
   "execution_count": 3,
   "metadata": {
    "collapsed": false
   },
   "outputs": [
    {
     "data": {
      "text/plain": [
       "13325"
      ]
     },
     "execution_count": 3,
     "metadata": {},
     "output_type": "execute_result"
    }
   ],
   "source": [
    "data_hpg_reserve['hpg_store_id'].drop_duplicates().count()"
   ]
  },
  {
   "cell_type": "markdown",
   "metadata": {},
   "source": [
    "### Function for finding week day 0 for Monday, 1 for Tuesday ..."
   ]
  },
  {
   "cell_type": "code",
   "execution_count": 4,
   "metadata": {
    "collapsed": true
   },
   "outputs": [],
   "source": [
    "def toWkDay(date):\n",
    "    return datetime.strptime(date, '%Y-%m-%d').weekday()"
   ]
  },
  {
   "cell_type": "markdown",
   "metadata": {},
   "source": [
    "### Adding column weekday_col to week_day_visit_data"
   ]
  },
  {
   "cell_type": "code",
   "execution_count": 5,
   "metadata": {
    "collapsed": false
   },
   "outputs": [],
   "source": [
    "weekday_col = data_air_visit_data['visit_date'].apply(toWkDay)\n",
    "week_day_visit_data = data_air_visit_data.assign(weekday = pd.Series(weekday_col, index=data_air_visit_data.index))"
   ]
  },
  {
   "cell_type": "markdown",
   "metadata": {},
   "source": [
    "### Joining week_day_visit_data wk and data_date_info dd on _wk.visit__date = dd.calendar__date_"
   ]
  },
  {
   "cell_type": "code",
   "execution_count": 6,
   "metadata": {
    "collapsed": false
   },
   "outputs": [
    {
     "data": {
      "text/html": [
       "<div>\n",
       "<table border=\"1\" class=\"dataframe\">\n",
       "  <thead>\n",
       "    <tr style=\"text-align: right;\">\n",
       "      <th></th>\n",
       "      <th>air_store_id</th>\n",
       "      <th>visit_date</th>\n",
       "      <th>visitors</th>\n",
       "      <th>weekday</th>\n",
       "      <th>day_of_week</th>\n",
       "      <th>holiday_flg</th>\n",
       "    </tr>\n",
       "  </thead>\n",
       "  <tbody>\n",
       "    <tr>\n",
       "      <th>0</th>\n",
       "      <td>air_ba937bf13d40fb24</td>\n",
       "      <td>2016-01-13</td>\n",
       "      <td>25</td>\n",
       "      <td>2</td>\n",
       "      <td>Wednesday</td>\n",
       "      <td>0</td>\n",
       "    </tr>\n",
       "    <tr>\n",
       "      <th>1</th>\n",
       "      <td>air_25e9888d30b386df</td>\n",
       "      <td>2016-01-13</td>\n",
       "      <td>21</td>\n",
       "      <td>2</td>\n",
       "      <td>Wednesday</td>\n",
       "      <td>0</td>\n",
       "    </tr>\n",
       "    <tr>\n",
       "      <th>2</th>\n",
       "      <td>air_fd6aac1043520e83</td>\n",
       "      <td>2016-01-13</td>\n",
       "      <td>40</td>\n",
       "      <td>2</td>\n",
       "      <td>Wednesday</td>\n",
       "      <td>0</td>\n",
       "    </tr>\n",
       "    <tr>\n",
       "      <th>3</th>\n",
       "      <td>air_64d4491ad8cdb1c6</td>\n",
       "      <td>2016-01-13</td>\n",
       "      <td>5</td>\n",
       "      <td>2</td>\n",
       "      <td>Wednesday</td>\n",
       "      <td>0</td>\n",
       "    </tr>\n",
       "    <tr>\n",
       "      <th>4</th>\n",
       "      <td>air_ee3a01f0c71a769f</td>\n",
       "      <td>2016-01-13</td>\n",
       "      <td>18</td>\n",
       "      <td>2</td>\n",
       "      <td>Wednesday</td>\n",
       "      <td>0</td>\n",
       "    </tr>\n",
       "  </tbody>\n",
       "</table>\n",
       "</div>"
      ],
      "text/plain": [
       "           air_store_id  visit_date  visitors  weekday day_of_week  \\\n",
       "0  air_ba937bf13d40fb24  2016-01-13        25        2   Wednesday   \n",
       "1  air_25e9888d30b386df  2016-01-13        21        2   Wednesday   \n",
       "2  air_fd6aac1043520e83  2016-01-13        40        2   Wednesday   \n",
       "3  air_64d4491ad8cdb1c6  2016-01-13         5        2   Wednesday   \n",
       "4  air_ee3a01f0c71a769f  2016-01-13        18        2   Wednesday   \n",
       "\n",
       "   holiday_flg  \n",
       "0            0  \n",
       "1            0  \n",
       "2            0  \n",
       "3            0  \n",
       "4            0  "
      ]
     },
     "execution_count": 6,
     "metadata": {},
     "output_type": "execute_result"
    }
   ],
   "source": [
    "merged_pd = pd.merge(week_day_visit_data, data_date_info, left_on='visit_date', right_on='calendar_date').drop('calendar_date',1)\n",
    "merged_pd.head()"
   ]
  },
  {
   "cell_type": "markdown",
   "metadata": {},
   "source": [
    "### To find # of visitor and Total visitors for corresposding _weekday_ and _holidayflg_"
   ]
  },
  {
   "cell_type": "code",
   "execution_count": 7,
   "metadata": {
    "collapsed": false
   },
   "outputs": [
    {
     "data": {
      "text/html": [
       "<div>\n",
       "<table border=\"1\" class=\"dataframe\">\n",
       "  <thead>\n",
       "    <tr>\n",
       "      <th></th>\n",
       "      <th></th>\n",
       "      <th colspan=\"4\" halign=\"left\">visitors</th>\n",
       "    </tr>\n",
       "    <tr>\n",
       "      <th></th>\n",
       "      <th></th>\n",
       "      <th>count</th>\n",
       "      <th>sum</th>\n",
       "      <th>mean</th>\n",
       "      <th>std</th>\n",
       "    </tr>\n",
       "    <tr>\n",
       "      <th>weekday</th>\n",
       "      <th>holiday_flg</th>\n",
       "      <th></th>\n",
       "      <th></th>\n",
       "      <th></th>\n",
       "      <th></th>\n",
       "    </tr>\n",
       "  </thead>\n",
       "  <tbody>\n",
       "    <tr>\n",
       "      <th rowspan=\"2\" valign=\"top\">0</th>\n",
       "      <th>0</th>\n",
       "      <td>27902</td>\n",
       "      <td>461537</td>\n",
       "      <td>16.541359</td>\n",
       "      <td>13.393984</td>\n",
       "    </tr>\n",
       "    <tr>\n",
       "      <th>1</th>\n",
       "      <td>3780</td>\n",
       "      <td>82665</td>\n",
       "      <td>21.869048</td>\n",
       "      <td>17.846306</td>\n",
       "    </tr>\n",
       "    <tr>\n",
       "      <th rowspan=\"2\" valign=\"top\">1</th>\n",
       "      <th>0</th>\n",
       "      <td>35508</td>\n",
       "      <td>622894</td>\n",
       "      <td>17.542357</td>\n",
       "      <td>14.482383</td>\n",
       "    </tr>\n",
       "    <tr>\n",
       "      <th>1</th>\n",
       "      <td>507</td>\n",
       "      <td>13568</td>\n",
       "      <td>26.761341</td>\n",
       "      <td>19.822738</td>\n",
       "    </tr>\n",
       "    <tr>\n",
       "      <th rowspan=\"2\" valign=\"top\">2</th>\n",
       "      <th>0</th>\n",
       "      <td>35905</td>\n",
       "      <td>687276</td>\n",
       "      <td>19.141512</td>\n",
       "      <td>15.309551</td>\n",
       "    </tr>\n",
       "    <tr>\n",
       "      <th>1</th>\n",
       "      <td>906</td>\n",
       "      <td>20604</td>\n",
       "      <td>22.741722</td>\n",
       "      <td>17.568605</td>\n",
       "    </tr>\n",
       "    <tr>\n",
       "      <th rowspan=\"2\" valign=\"top\">3</th>\n",
       "      <th>0</th>\n",
       "      <td>34775</td>\n",
       "      <td>644729</td>\n",
       "      <td>18.540014</td>\n",
       "      <td>14.168872</td>\n",
       "    </tr>\n",
       "    <tr>\n",
       "      <th>1</th>\n",
       "      <td>3221</td>\n",
       "      <td>74258</td>\n",
       "      <td>23.054331</td>\n",
       "      <td>18.183583</td>\n",
       "    </tr>\n",
       "    <tr>\n",
       "      <th rowspan=\"2\" valign=\"top\">4</th>\n",
       "      <th>0</th>\n",
       "      <td>38723</td>\n",
       "      <td>886341</td>\n",
       "      <td>22.889265</td>\n",
       "      <td>16.325203</td>\n",
       "    </tr>\n",
       "    <tr>\n",
       "      <th>1</th>\n",
       "      <td>1628</td>\n",
       "      <td>44667</td>\n",
       "      <td>27.436732</td>\n",
       "      <td>21.247054</td>\n",
       "    </tr>\n",
       "    <tr>\n",
       "      <th rowspan=\"2\" valign=\"top\">5</th>\n",
       "      <th>0</th>\n",
       "      <td>37506</td>\n",
       "      <td>990390</td>\n",
       "      <td>26.406175</td>\n",
       "      <td>18.939503</td>\n",
       "    </tr>\n",
       "    <tr>\n",
       "      <th>1</th>\n",
       "      <td>1756</td>\n",
       "      <td>42738</td>\n",
       "      <td>24.338269</td>\n",
       "      <td>18.730524</td>\n",
       "    </tr>\n",
       "    <tr>\n",
       "      <th rowspan=\"2\" valign=\"top\">6</th>\n",
       "      <th>0</th>\n",
       "      <td>29014</td>\n",
       "      <td>691676</td>\n",
       "      <td>23.839388</td>\n",
       "      <td>20.122817</td>\n",
       "    </tr>\n",
       "    <tr>\n",
       "      <th>1</th>\n",
       "      <td>977</td>\n",
       "      <td>24310</td>\n",
       "      <td>24.882293</td>\n",
       "      <td>20.358505</td>\n",
       "    </tr>\n",
       "  </tbody>\n",
       "</table>\n",
       "</div>"
      ],
      "text/plain": [
       "                    visitors                              \n",
       "                       count     sum       mean        std\n",
       "weekday holiday_flg                                       \n",
       "0       0              27902  461537  16.541359  13.393984\n",
       "        1               3780   82665  21.869048  17.846306\n",
       "1       0              35508  622894  17.542357  14.482383\n",
       "        1                507   13568  26.761341  19.822738\n",
       "2       0              35905  687276  19.141512  15.309551\n",
       "        1                906   20604  22.741722  17.568605\n",
       "3       0              34775  644729  18.540014  14.168872\n",
       "        1               3221   74258  23.054331  18.183583\n",
       "4       0              38723  886341  22.889265  16.325203\n",
       "        1               1628   44667  27.436732  21.247054\n",
       "5       0              37506  990390  26.406175  18.939503\n",
       "        1               1756   42738  24.338269  18.730524\n",
       "6       0              29014  691676  23.839388  20.122817\n",
       "        1                977   24310  24.882293  20.358505"
      ]
     },
     "execution_count": 7,
     "metadata": {},
     "output_type": "execute_result"
    }
   ],
   "source": [
    "df2 = merged_pd.loc[:,['visitors', 'weekday', 'holiday_flg']]\n",
    "df2.groupby(['weekday','holiday_flg']).agg(['count',np.sum, np.mean, np.std])"
   ]
  },
  {
   "cell_type": "markdown",
   "metadata": {},
   "source": [
    "### Function for casting string to date"
   ]
  },
  {
   "cell_type": "code",
   "execution_count": 8,
   "metadata": {
    "collapsed": true
   },
   "outputs": [],
   "source": [
    "def toDay(date):\n",
    "    return datetime.strptime(date, '%Y-%m-%d %H:%M:%S')"
   ]
  },
  {
   "cell_type": "code",
   "execution_count": 9,
   "metadata": {
    "collapsed": true
   },
   "outputs": [],
   "source": [
    "diff = data_air_reserve['visit_datetime'].apply(toDay) - data_air_reserve['reserve_datetime'].apply(toDay)"
   ]
  },
  {
   "cell_type": "markdown",
   "metadata": {},
   "source": [
    "### Function for translating _yyyy-mm-dd hh:mm:ss_ to _yyyy-mm-dd_"
   ]
  },
  {
   "cell_type": "code",
   "execution_count": 10,
   "metadata": {
    "collapsed": true
   },
   "outputs": [],
   "source": [
    "def toDate(date):\n",
    "    return str(datetime.strptime(date, '%Y-%m-%d %H:%M:%S').date())"
   ]
  },
  {
   "cell_type": "markdown",
   "metadata": {},
   "source": [
    "### comb_df is consolidating two csv and show all things we need\n",
    "### comb_df_with_area is comb_df with air_genre_name and air_area_name"
   ]
  },
  {
   "cell_type": "code",
   "execution_count": 11,
   "metadata": {
    "collapsed": false
   },
   "outputs": [
    {
     "data": {
      "text/html": [
       "<div>\n",
       "<table border=\"1\" class=\"dataframe\">\n",
       "  <thead>\n",
       "    <tr style=\"text-align: right;\">\n",
       "      <th></th>\n",
       "      <th>air_store_id</th>\n",
       "      <th>reserve_visitors</th>\n",
       "      <th>date_diff</th>\n",
       "      <th>reserve_date</th>\n",
       "      <th>day_of_week</th>\n",
       "      <th>holiday_flg</th>\n",
       "      <th>air_genre_name</th>\n",
       "      <th>air_area_name</th>\n",
       "    </tr>\n",
       "  </thead>\n",
       "  <tbody>\n",
       "    <tr>\n",
       "      <th>0</th>\n",
       "      <td>air_877f79706adbfb06</td>\n",
       "      <td>1</td>\n",
       "      <td>0 days 03:00:00</td>\n",
       "      <td>2016-01-01</td>\n",
       "      <td>Friday</td>\n",
       "      <td>1</td>\n",
       "      <td>Japanese food</td>\n",
       "      <td>Tōkyō-to Minato-ku Shibakōen</td>\n",
       "    </tr>\n",
       "    <tr>\n",
       "      <th>1</th>\n",
       "      <td>air_877f79706adbfb06</td>\n",
       "      <td>2</td>\n",
       "      <td>0 days 04:00:00</td>\n",
       "      <td>2016-01-01</td>\n",
       "      <td>Friday</td>\n",
       "      <td>1</td>\n",
       "      <td>Japanese food</td>\n",
       "      <td>Tōkyō-to Minato-ku Shibakōen</td>\n",
       "    </tr>\n",
       "    <tr>\n",
       "      <th>2</th>\n",
       "      <td>air_877f79706adbfb06</td>\n",
       "      <td>2</td>\n",
       "      <td>1 days 02:00:00</td>\n",
       "      <td>2016-01-01</td>\n",
       "      <td>Friday</td>\n",
       "      <td>1</td>\n",
       "      <td>Japanese food</td>\n",
       "      <td>Tōkyō-to Minato-ku Shibakōen</td>\n",
       "    </tr>\n",
       "    <tr>\n",
       "      <th>3</th>\n",
       "      <td>air_877f79706adbfb06</td>\n",
       "      <td>2</td>\n",
       "      <td>1 days 05:00:00</td>\n",
       "      <td>2016-01-01</td>\n",
       "      <td>Friday</td>\n",
       "      <td>1</td>\n",
       "      <td>Japanese food</td>\n",
       "      <td>Tōkyō-to Minato-ku Shibakōen</td>\n",
       "    </tr>\n",
       "    <tr>\n",
       "      <th>4</th>\n",
       "      <td>air_877f79706adbfb06</td>\n",
       "      <td>2</td>\n",
       "      <td>4 days 01:00:00</td>\n",
       "      <td>2016-01-04</td>\n",
       "      <td>Monday</td>\n",
       "      <td>0</td>\n",
       "      <td>Japanese food</td>\n",
       "      <td>Tōkyō-to Minato-ku Shibakōen</td>\n",
       "    </tr>\n",
       "  </tbody>\n",
       "</table>\n",
       "</div>"
      ],
      "text/plain": [
       "           air_store_id  reserve_visitors       date_diff reserve_date  \\\n",
       "0  air_877f79706adbfb06                 1 0 days 03:00:00   2016-01-01   \n",
       "1  air_877f79706adbfb06                 2 0 days 04:00:00   2016-01-01   \n",
       "2  air_877f79706adbfb06                 2 1 days 02:00:00   2016-01-01   \n",
       "3  air_877f79706adbfb06                 2 1 days 05:00:00   2016-01-01   \n",
       "4  air_877f79706adbfb06                 2 4 days 01:00:00   2016-01-04   \n",
       "\n",
       "  day_of_week  holiday_flg air_genre_name                 air_area_name  \n",
       "0      Friday            1  Japanese food  Tōkyō-to Minato-ku Shibakōen  \n",
       "1      Friday            1  Japanese food  Tōkyō-to Minato-ku Shibakōen  \n",
       "2      Friday            1  Japanese food  Tōkyō-to Minato-ku Shibakōen  \n",
       "3      Friday            1  Japanese food  Tōkyō-to Minato-ku Shibakōen  \n",
       "4      Monday            0  Japanese food  Tōkyō-to Minato-ku Shibakōen  "
      ]
     },
     "execution_count": 11,
     "metadata": {},
     "output_type": "execute_result"
    }
   ],
   "source": [
    "date_diff_col = data_air_reserve['visit_datetime'].apply(toDay) - data_air_reserve['reserve_datetime'].apply(toDay)\n",
    "reserve_date_col = data_air_reserve['reserve_datetime'].apply(toDate)\n",
    "\n",
    "df5 = data_air_reserve.assign(date_diff = pd.Series(date_diff_col, index=data_air_visit_data.index))\n",
    "df5 = df5.assign(reserve_date = pd.Series(reserve_date_col, index=data_air_visit_data.index))\n",
    "\n",
    "comb_df = pd.merge(df5, data_date_info, left_on='reserve_date', right_on='calendar_date')\n",
    "comb_df = comb_df.drop('calendar_date', 1)\n",
    "comb_df = comb_df.drop('visit_datetime', 1)\n",
    "comb_df = comb_df.drop('reserve_datetime', 1)\n",
    "\n",
    "# comb_df.head()\n",
    "\n",
    "comb_df_with_area = pd.merge(comb_df, data_air_store_info, on='air_store_id')\n",
    "\n",
    "comb_df_with_area = comb_df_with_area.drop('latitude', 1)\n",
    "comb_df_with_area = comb_df_with_area.drop('longitude', 1)\n",
    "\n",
    "comb_df_with_area.head()"
   ]
  },
  {
   "cell_type": "markdown",
   "metadata": {},
   "source": [
    "### Filtering by air_store_id, day_of_week and holiday_flg"
   ]
  },
  {
   "cell_type": "code",
   "execution_count": 12,
   "metadata": {
    "collapsed": false
   },
   "outputs": [
    {
     "data": {
      "text/html": [
       "<div>\n",
       "<table border=\"1\" class=\"dataframe\">\n",
       "  <thead>\n",
       "    <tr style=\"text-align: right;\">\n",
       "      <th></th>\n",
       "      <th>reserve_visitors</th>\n",
       "      <th>date_diff</th>\n",
       "    </tr>\n",
       "  </thead>\n",
       "  <tbody>\n",
       "    <tr>\n",
       "      <th>116</th>\n",
       "      <td>2</td>\n",
       "      <td>4 days 01:00:00</td>\n",
       "    </tr>\n",
       "    <tr>\n",
       "      <th>134</th>\n",
       "      <td>2</td>\n",
       "      <td>12 days 11:00:00</td>\n",
       "    </tr>\n",
       "    <tr>\n",
       "      <th>138</th>\n",
       "      <td>2</td>\n",
       "      <td>26 days 01:00:00</td>\n",
       "    </tr>\n",
       "    <tr>\n",
       "      <th>139</th>\n",
       "      <td>3</td>\n",
       "      <td>36 days 01:00:00</td>\n",
       "    </tr>\n",
       "    <tr>\n",
       "      <th>140</th>\n",
       "      <td>4</td>\n",
       "      <td>42 days 03:00:00</td>\n",
       "    </tr>\n",
       "  </tbody>\n",
       "</table>\n",
       "</div>"
      ],
      "text/plain": [
       "     reserve_visitors        date_diff\n",
       "116                 2  4 days 01:00:00\n",
       "134                 2 12 days 11:00:00\n",
       "138                 2 26 days 01:00:00\n",
       "139                 3 36 days 01:00:00\n",
       "140                 4 42 days 03:00:00"
      ]
     },
     "execution_count": 12,
     "metadata": {},
     "output_type": "execute_result"
    }
   ],
   "source": [
    "mon_xholiday = comb_df[(comb_df.air_store_id == 'air_877f79706adbfb06') & (comb_df.day_of_week == 'Monday') & (comb_df.holiday_flg == 0)]\n",
    "mon_xholiday2 = mon_xholiday[mon_xholiday.reserve_date == '2016-01-04']\n",
    "mon_xholiday2.loc[:,['reserve_visitors','date_diff']]"
   ]
  },
  {
   "cell_type": "markdown",
   "metadata": {},
   "source": [
    "### _.plot()_ can connect each point by line\n",
    "### _.plot.bar()_ can plot a bar chart"
   ]
  },
  {
   "cell_type": "code",
   "execution_count": 13,
   "metadata": {
    "collapsed": false
   },
   "outputs": [],
   "source": [
    "mon_xholiday3 = mon_xholiday.groupby('reserve_date').agg([np.sum,'count',np.std, np.mean])\n",
    "# mon_xholiday3.loc[:,'reserve_visitors'].plot.bar()\n"
   ]
  },
  {
   "cell_type": "code",
   "execution_count": 14,
   "metadata": {
    "collapsed": false
   },
   "outputs": [
    {
     "data": {
      "text/html": [
       "<div>\n",
       "<table border=\"1\" class=\"dataframe\">\n",
       "  <thead>\n",
       "    <tr>\n",
       "      <th></th>\n",
       "      <th></th>\n",
       "      <th></th>\n",
       "      <th colspan=\"4\" halign=\"left\">reserve_visitors</th>\n",
       "    </tr>\n",
       "    <tr>\n",
       "      <th></th>\n",
       "      <th></th>\n",
       "      <th></th>\n",
       "      <th>count</th>\n",
       "      <th>sum</th>\n",
       "      <th>mean</th>\n",
       "      <th>std</th>\n",
       "    </tr>\n",
       "    <tr>\n",
       "      <th>air_area_name</th>\n",
       "      <th>air_genre_name</th>\n",
       "      <th>day_of_week</th>\n",
       "      <th></th>\n",
       "      <th></th>\n",
       "      <th></th>\n",
       "      <th></th>\n",
       "    </tr>\n",
       "  </thead>\n",
       "  <tbody>\n",
       "    <tr>\n",
       "      <th rowspan=\"5\" valign=\"top\">Fukuoka-ken Fukuoka-shi Daimyō</th>\n",
       "      <th rowspan=\"5\" valign=\"top\">Cafe/Sweets</th>\n",
       "      <th>Friday</th>\n",
       "      <td>182</td>\n",
       "      <td>541</td>\n",
       "      <td>2.972527</td>\n",
       "      <td>2.774054</td>\n",
       "    </tr>\n",
       "    <tr>\n",
       "      <th>Monday</th>\n",
       "      <td>129</td>\n",
       "      <td>450</td>\n",
       "      <td>3.488372</td>\n",
       "      <td>2.404801</td>\n",
       "    </tr>\n",
       "    <tr>\n",
       "      <th>Saturday</th>\n",
       "      <td>194</td>\n",
       "      <td>601</td>\n",
       "      <td>3.097938</td>\n",
       "      <td>2.297937</td>\n",
       "    </tr>\n",
       "    <tr>\n",
       "      <th>Sunday</th>\n",
       "      <td>190</td>\n",
       "      <td>601</td>\n",
       "      <td>3.163158</td>\n",
       "      <td>3.048065</td>\n",
       "    </tr>\n",
       "    <tr>\n",
       "      <th>Thursday</th>\n",
       "      <td>200</td>\n",
       "      <td>637</td>\n",
       "      <td>3.185000</td>\n",
       "      <td>1.765321</td>\n",
       "    </tr>\n",
       "  </tbody>\n",
       "</table>\n",
       "</div>"
      ],
      "text/plain": [
       "                                                          reserve_visitors  \\\n",
       "                                                                     count   \n",
       "air_area_name                  air_genre_name day_of_week                    \n",
       "Fukuoka-ken Fukuoka-shi Daimyō Cafe/Sweets    Friday                   182   \n",
       "                                              Monday                   129   \n",
       "                                              Saturday                 194   \n",
       "                                              Sunday                   190   \n",
       "                                              Thursday                 200   \n",
       "\n",
       "                                                                          \\\n",
       "                                                           sum      mean   \n",
       "air_area_name                  air_genre_name day_of_week                  \n",
       "Fukuoka-ken Fukuoka-shi Daimyō Cafe/Sweets    Friday       541  2.972527   \n",
       "                                              Monday       450  3.488372   \n",
       "                                              Saturday     601  3.097938   \n",
       "                                              Sunday       601  3.163158   \n",
       "                                              Thursday     637  3.185000   \n",
       "\n",
       "                                                                     \n",
       "                                                                std  \n",
       "air_area_name                  air_genre_name day_of_week            \n",
       "Fukuoka-ken Fukuoka-shi Daimyō Cafe/Sweets    Friday       2.774054  \n",
       "                                              Monday       2.404801  \n",
       "                                              Saturday     2.297937  \n",
       "                                              Sunday       3.048065  \n",
       "                                              Thursday     1.765321  "
      ]
     },
     "execution_count": 14,
     "metadata": {},
     "output_type": "execute_result"
    }
   ],
   "source": [
    "comb_df_with_area.loc[:,['reserve_visitors', 'air_genre_name', 'air_area_name','day_of_week']] \\\n",
    ".groupby([ 'air_area_name', 'air_genre_name','day_of_week']).agg(['count',np.sum, np.mean, np.std]).head()"
   ]
  },
  {
   "cell_type": "code",
   "execution_count": 75,
   "metadata": {
    "collapsed": false
   },
   "outputs": [
    {
     "data": {
      "text/html": [
       "<div>\n",
       "<table border=\"1\" class=\"dataframe\">\n",
       "  <thead>\n",
       "    <tr style=\"text-align: right;\">\n",
       "      <th></th>\n",
       "      <th>air_area_name</th>\n",
       "      <th>air_genre_name</th>\n",
       "      <th>UL</th>\n",
       "      <th>LL</th>\n",
       "      <th>air_store_id</th>\n",
       "      <th>reserve_visitors</th>\n",
       "      <th>date_diff</th>\n",
       "      <th>reserve_date</th>\n",
       "      <th>day_of_week</th>\n",
       "      <th>holiday_flg</th>\n",
       "    </tr>\n",
       "  </thead>\n",
       "  <tbody>\n",
       "    <tr>\n",
       "      <th>0</th>\n",
       "      <td>Fukuoka-ken Fukuoka-shi Daimyō</td>\n",
       "      <td>Cafe/Sweets</td>\n",
       "      <td>7.0</td>\n",
       "      <td>-1.0</td>\n",
       "      <td>air_6c91a28278a16f64</td>\n",
       "      <td>4</td>\n",
       "      <td>1 days 17:00:00</td>\n",
       "      <td>2016-01-01</td>\n",
       "      <td>Friday</td>\n",
       "      <td>1</td>\n",
       "    </tr>\n",
       "    <tr>\n",
       "      <th>1</th>\n",
       "      <td>Fukuoka-ken Fukuoka-shi Daimyō</td>\n",
       "      <td>Cafe/Sweets</td>\n",
       "      <td>7.0</td>\n",
       "      <td>-1.0</td>\n",
       "      <td>air_6c91a28278a16f64</td>\n",
       "      <td>2</td>\n",
       "      <td>0 days 01:00:00</td>\n",
       "      <td>2016-01-05</td>\n",
       "      <td>Tuesday</td>\n",
       "      <td>0</td>\n",
       "    </tr>\n",
       "    <tr>\n",
       "      <th>2</th>\n",
       "      <td>Fukuoka-ken Fukuoka-shi Daimyō</td>\n",
       "      <td>Cafe/Sweets</td>\n",
       "      <td>7.0</td>\n",
       "      <td>-1.0</td>\n",
       "      <td>air_6c91a28278a16f64</td>\n",
       "      <td>2</td>\n",
       "      <td>0 days 01:00:00</td>\n",
       "      <td>2016-01-05</td>\n",
       "      <td>Tuesday</td>\n",
       "      <td>0</td>\n",
       "    </tr>\n",
       "    <tr>\n",
       "      <th>3</th>\n",
       "      <td>Fukuoka-ken Fukuoka-shi Daimyō</td>\n",
       "      <td>Cafe/Sweets</td>\n",
       "      <td>7.0</td>\n",
       "      <td>-1.0</td>\n",
       "      <td>air_6c91a28278a16f64</td>\n",
       "      <td>3</td>\n",
       "      <td>5 days 07:00:00</td>\n",
       "      <td>2016-01-05</td>\n",
       "      <td>Tuesday</td>\n",
       "      <td>0</td>\n",
       "    </tr>\n",
       "    <tr>\n",
       "      <th>4</th>\n",
       "      <td>Fukuoka-ken Fukuoka-shi Daimyō</td>\n",
       "      <td>Cafe/Sweets</td>\n",
       "      <td>7.0</td>\n",
       "      <td>-1.0</td>\n",
       "      <td>air_6c91a28278a16f64</td>\n",
       "      <td>3</td>\n",
       "      <td>9 days 20:00:00</td>\n",
       "      <td>2016-01-05</td>\n",
       "      <td>Tuesday</td>\n",
       "      <td>0</td>\n",
       "    </tr>\n",
       "  </tbody>\n",
       "</table>\n",
       "</div>"
      ],
      "text/plain": [
       "                    air_area_name air_genre_name   UL   LL  \\\n",
       "0  Fukuoka-ken Fukuoka-shi Daimyō    Cafe/Sweets  7.0 -1.0   \n",
       "1  Fukuoka-ken Fukuoka-shi Daimyō    Cafe/Sweets  7.0 -1.0   \n",
       "2  Fukuoka-ken Fukuoka-shi Daimyō    Cafe/Sweets  7.0 -1.0   \n",
       "3  Fukuoka-ken Fukuoka-shi Daimyō    Cafe/Sweets  7.0 -1.0   \n",
       "4  Fukuoka-ken Fukuoka-shi Daimyō    Cafe/Sweets  7.0 -1.0   \n",
       "\n",
       "           air_store_id  reserve_visitors       date_diff reserve_date  \\\n",
       "0  air_6c91a28278a16f64                 4 1 days 17:00:00   2016-01-01   \n",
       "1  air_6c91a28278a16f64                 2 0 days 01:00:00   2016-01-05   \n",
       "2  air_6c91a28278a16f64                 2 0 days 01:00:00   2016-01-05   \n",
       "3  air_6c91a28278a16f64                 3 5 days 07:00:00   2016-01-05   \n",
       "4  air_6c91a28278a16f64                 3 9 days 20:00:00   2016-01-05   \n",
       "\n",
       "  day_of_week  holiday_flg  \n",
       "0      Friday            1  \n",
       "1     Tuesday            0  \n",
       "2     Tuesday            0  \n",
       "3     Tuesday            0  \n",
       "4     Tuesday            0  "
      ]
     },
     "execution_count": 75,
     "metadata": {},
     "output_type": "execute_result"
    }
   ],
   "source": [
    "Q1 = comb_df_with_area.loc[:,['reserve_visitors', 'air_genre_name', 'air_area_name','day_of_week']] \\\n",
    ".groupby([ 'air_area_name', 'air_genre_name']).quantile(0.25)\n",
    "Q3 = comb_df_with_area.loc[:,['reserve_visitors', 'air_genre_name', 'air_area_name','day_of_week']] \\\n",
    ".groupby([ 'air_area_name', 'air_genre_name']).quantile(0.75)\n",
    "IQR = Q3 - Q1\n",
    "UL = Q3 + 1.5*IQR\n",
    "UL = UL.rename(index=str, columns={'reserve_visitors' :'UL'})\n",
    "LL = Q1 - 1.5*IQR\n",
    "LL = LL.rename(index=str, columns={'reserve_visitors' :'LL'})\n",
    "outliers_lmt = pd.concat([UL, LL], axis=1)\n",
    "\n",
    "outliers_lmt = outliers_lmt.reset_index(level=['air_area_name', 'air_genre_name'])\n",
    "\n",
    "outliers_filtered = pd.merge(outliers_lmt, comb_df_with_area, on=['air_area_name', 'air_genre_name'])\n",
    "outliers_filtered = outliers_filtered[(outliers_filtered.reserve_visitors >= outliers_filtered.LL) &\n",
    "                                      (outliers_filtered.reserve_visitors <= outliers_filtered.UL)]\n",
    "\n",
    "# comb_df_with_area.count() \n",
    "outliers_filtered.head()"
   ]
  },
  {
   "cell_type": "code",
   "execution_count": 81,
   "metadata": {
    "collapsed": false
   },
   "outputs": [
    {
     "data": {
      "text/html": [
       "<div>\n",
       "<table border=\"1\" class=\"dataframe\">\n",
       "  <thead>\n",
       "    <tr>\n",
       "      <th></th>\n",
       "      <th></th>\n",
       "      <th colspan=\"4\" halign=\"left\">reserve_visitors</th>\n",
       "    </tr>\n",
       "    <tr>\n",
       "      <th></th>\n",
       "      <th></th>\n",
       "      <th>count</th>\n",
       "      <th>sum</th>\n",
       "      <th>mean</th>\n",
       "      <th>std</th>\n",
       "    </tr>\n",
       "    <tr>\n",
       "      <th>day_of_week</th>\n",
       "      <th>holiday_flg</th>\n",
       "      <th></th>\n",
       "      <th></th>\n",
       "      <th></th>\n",
       "      <th></th>\n",
       "    </tr>\n",
       "  </thead>\n",
       "  <tbody>\n",
       "    <tr>\n",
       "      <th rowspan=\"2\" valign=\"top\">Friday</th>\n",
       "      <th>0</th>\n",
       "      <td>12604</td>\n",
       "      <td>44416</td>\n",
       "      <td>3.523961</td>\n",
       "      <td>2.739008</td>\n",
       "    </tr>\n",
       "    <tr>\n",
       "      <th>1</th>\n",
       "      <td>853</td>\n",
       "      <td>2507</td>\n",
       "      <td>2.939039</td>\n",
       "      <td>1.534742</td>\n",
       "    </tr>\n",
       "    <tr>\n",
       "      <th rowspan=\"2\" valign=\"top\">Monday</th>\n",
       "      <th>0</th>\n",
       "      <td>10145</td>\n",
       "      <td>38407</td>\n",
       "      <td>3.785806</td>\n",
       "      <td>2.855061</td>\n",
       "    </tr>\n",
       "    <tr>\n",
       "      <th>1</th>\n",
       "      <td>870</td>\n",
       "      <td>3044</td>\n",
       "      <td>3.498851</td>\n",
       "      <td>2.706915</td>\n",
       "    </tr>\n",
       "    <tr>\n",
       "      <th rowspan=\"2\" valign=\"top\">Saturday</th>\n",
       "      <th>0</th>\n",
       "      <td>11110</td>\n",
       "      <td>36579</td>\n",
       "      <td>3.292439</td>\n",
       "      <td>2.358592</td>\n",
       "    </tr>\n",
       "    <tr>\n",
       "      <th>1</th>\n",
       "      <td>483</td>\n",
       "      <td>1540</td>\n",
       "      <td>3.188406</td>\n",
       "      <td>2.130521</td>\n",
       "    </tr>\n",
       "    <tr>\n",
       "      <th rowspan=\"2\" valign=\"top\">Sunday</th>\n",
       "      <th>0</th>\n",
       "      <td>8070</td>\n",
       "      <td>26714</td>\n",
       "      <td>3.310285</td>\n",
       "      <td>2.376587</td>\n",
       "    </tr>\n",
       "    <tr>\n",
       "      <th>1</th>\n",
       "      <td>231</td>\n",
       "      <td>798</td>\n",
       "      <td>3.454545</td>\n",
       "      <td>1.868821</td>\n",
       "    </tr>\n",
       "    <tr>\n",
       "      <th rowspan=\"2\" valign=\"top\">Thursday</th>\n",
       "      <th>0</th>\n",
       "      <td>13143</td>\n",
       "      <td>47560</td>\n",
       "      <td>3.618656</td>\n",
       "      <td>2.658786</td>\n",
       "    </tr>\n",
       "    <tr>\n",
       "      <th>1</th>\n",
       "      <td>834</td>\n",
       "      <td>2799</td>\n",
       "      <td>3.356115</td>\n",
       "      <td>2.189474</td>\n",
       "    </tr>\n",
       "    <tr>\n",
       "      <th rowspan=\"2\" valign=\"top\">Tuesday</th>\n",
       "      <th>0</th>\n",
       "      <td>12871</td>\n",
       "      <td>48243</td>\n",
       "      <td>3.748194</td>\n",
       "      <td>2.805740</td>\n",
       "    </tr>\n",
       "    <tr>\n",
       "      <th>1</th>\n",
       "      <td>303</td>\n",
       "      <td>1042</td>\n",
       "      <td>3.438944</td>\n",
       "      <td>2.116335</td>\n",
       "    </tr>\n",
       "    <tr>\n",
       "      <th rowspan=\"2\" valign=\"top\">Wednesday</th>\n",
       "      <th>0</th>\n",
       "      <td>12994</td>\n",
       "      <td>48180</td>\n",
       "      <td>3.707865</td>\n",
       "      <td>2.942313</td>\n",
       "    </tr>\n",
       "    <tr>\n",
       "      <th>1</th>\n",
       "      <td>522</td>\n",
       "      <td>1757</td>\n",
       "      <td>3.365900</td>\n",
       "      <td>2.550493</td>\n",
       "    </tr>\n",
       "  </tbody>\n",
       "</table>\n",
       "</div>"
      ],
      "text/plain": [
       "                        reserve_visitors                           \n",
       "                                   count    sum      mean       std\n",
       "day_of_week holiday_flg                                            \n",
       "Friday      0                      12604  44416  3.523961  2.739008\n",
       "            1                        853   2507  2.939039  1.534742\n",
       "Monday      0                      10145  38407  3.785806  2.855061\n",
       "            1                        870   3044  3.498851  2.706915\n",
       "Saturday    0                      11110  36579  3.292439  2.358592\n",
       "            1                        483   1540  3.188406  2.130521\n",
       "Sunday      0                       8070  26714  3.310285  2.376587\n",
       "            1                        231    798  3.454545  1.868821\n",
       "Thursday    0                      13143  47560  3.618656  2.658786\n",
       "            1                        834   2799  3.356115  2.189474\n",
       "Tuesday     0                      12871  48243  3.748194  2.805740\n",
       "            1                        303   1042  3.438944  2.116335\n",
       "Wednesday   0                      12994  48180  3.707865  2.942313\n",
       "            1                        522   1757  3.365900  2.550493"
      ]
     },
     "execution_count": 81,
     "metadata": {},
     "output_type": "execute_result"
    }
   ],
   "source": [
    "outliers_filtered.loc[:, ['day_of_week', 'holiday_flg','reserve_visitors']] \\\n",
    "                 .groupby(['day_of_week', 'holiday_flg']) \\\n",
    "                 .agg(['count',np.sum, np.mean, np.std])"
   ]
  },
  {
   "cell_type": "code",
   "execution_count": 82,
   "metadata": {
    "collapsed": false
   },
   "outputs": [
    {
     "data": {
      "text/html": [
       "<div>\n",
       "<table border=\"1\" class=\"dataframe\">\n",
       "  <thead>\n",
       "    <tr>\n",
       "      <th></th>\n",
       "      <th></th>\n",
       "      <th colspan=\"4\" halign=\"left\">reserve_visitors</th>\n",
       "    </tr>\n",
       "    <tr>\n",
       "      <th></th>\n",
       "      <th></th>\n",
       "      <th>count</th>\n",
       "      <th>sum</th>\n",
       "      <th>mean</th>\n",
       "      <th>std</th>\n",
       "    </tr>\n",
       "    <tr>\n",
       "      <th>day_of_week</th>\n",
       "      <th>holiday_flg</th>\n",
       "      <th></th>\n",
       "      <th></th>\n",
       "      <th></th>\n",
       "      <th></th>\n",
       "    </tr>\n",
       "  </thead>\n",
       "  <tbody>\n",
       "    <tr>\n",
       "      <th rowspan=\"2\" valign=\"top\">Friday</th>\n",
       "      <th>0</th>\n",
       "      <td>13693</td>\n",
       "      <td>61136</td>\n",
       "      <td>4.464763</td>\n",
       "      <td>5.065942</td>\n",
       "    </tr>\n",
       "    <tr>\n",
       "      <th>1</th>\n",
       "      <td>888</td>\n",
       "      <td>2889</td>\n",
       "      <td>3.253378</td>\n",
       "      <td>2.529196</td>\n",
       "    </tr>\n",
       "    <tr>\n",
       "      <th rowspan=\"2\" valign=\"top\">Monday</th>\n",
       "      <th>0</th>\n",
       "      <td>11123</td>\n",
       "      <td>53514</td>\n",
       "      <td>4.811112</td>\n",
       "      <td>5.070907</td>\n",
       "    </tr>\n",
       "    <tr>\n",
       "      <th>1</th>\n",
       "      <td>934</td>\n",
       "      <td>3867</td>\n",
       "      <td>4.140257</td>\n",
       "      <td>4.149746</td>\n",
       "    </tr>\n",
       "    <tr>\n",
       "      <th rowspan=\"2\" valign=\"top\">Saturday</th>\n",
       "      <th>0</th>\n",
       "      <td>11884</td>\n",
       "      <td>47407</td>\n",
       "      <td>3.989145</td>\n",
       "      <td>4.266688</td>\n",
       "    </tr>\n",
       "    <tr>\n",
       "      <th>1</th>\n",
       "      <td>500</td>\n",
       "      <td>1856</td>\n",
       "      <td>3.712000</td>\n",
       "      <td>3.931918</td>\n",
       "    </tr>\n",
       "    <tr>\n",
       "      <th rowspan=\"2\" valign=\"top\">Sunday</th>\n",
       "      <th>0</th>\n",
       "      <td>8716</td>\n",
       "      <td>36004</td>\n",
       "      <td>4.130794</td>\n",
       "      <td>4.757853</td>\n",
       "    </tr>\n",
       "    <tr>\n",
       "      <th>1</th>\n",
       "      <td>243</td>\n",
       "      <td>939</td>\n",
       "      <td>3.864198</td>\n",
       "      <td>3.409102</td>\n",
       "    </tr>\n",
       "    <tr>\n",
       "      <th rowspan=\"2\" valign=\"top\">Thursday</th>\n",
       "      <th>0</th>\n",
       "      <td>14334</td>\n",
       "      <td>65181</td>\n",
       "      <td>4.547300</td>\n",
       "      <td>4.829193</td>\n",
       "    </tr>\n",
       "    <tr>\n",
       "      <th>1</th>\n",
       "      <td>893</td>\n",
       "      <td>3748</td>\n",
       "      <td>4.197088</td>\n",
       "      <td>4.758437</td>\n",
       "    </tr>\n",
       "    <tr>\n",
       "      <th rowspan=\"2\" valign=\"top\">Tuesday</th>\n",
       "      <th>0</th>\n",
       "      <td>14113</td>\n",
       "      <td>67882</td>\n",
       "      <td>4.809892</td>\n",
       "      <td>5.314733</td>\n",
       "    </tr>\n",
       "    <tr>\n",
       "      <th>1</th>\n",
       "      <td>324</td>\n",
       "      <td>1315</td>\n",
       "      <td>4.058642</td>\n",
       "      <td>3.512863</td>\n",
       "    </tr>\n",
       "    <tr>\n",
       "      <th rowspan=\"2\" valign=\"top\">Wednesday</th>\n",
       "      <th>0</th>\n",
       "      <td>14169</td>\n",
       "      <td>65884</td>\n",
       "      <td>4.649869</td>\n",
       "      <td>5.128143</td>\n",
       "    </tr>\n",
       "    <tr>\n",
       "      <th>1</th>\n",
       "      <td>564</td>\n",
       "      <td>2393</td>\n",
       "      <td>4.242908</td>\n",
       "      <td>4.944042</td>\n",
       "    </tr>\n",
       "  </tbody>\n",
       "</table>\n",
       "</div>"
      ],
      "text/plain": [
       "                        reserve_visitors                           \n",
       "                                   count    sum      mean       std\n",
       "day_of_week holiday_flg                                            \n",
       "Friday      0                      13693  61136  4.464763  5.065942\n",
       "            1                        888   2889  3.253378  2.529196\n",
       "Monday      0                      11123  53514  4.811112  5.070907\n",
       "            1                        934   3867  4.140257  4.149746\n",
       "Saturday    0                      11884  47407  3.989145  4.266688\n",
       "            1                        500   1856  3.712000  3.931918\n",
       "Sunday      0                       8716  36004  4.130794  4.757853\n",
       "            1                        243    939  3.864198  3.409102\n",
       "Thursday    0                      14334  65181  4.547300  4.829193\n",
       "            1                        893   3748  4.197088  4.758437\n",
       "Tuesday     0                      14113  67882  4.809892  5.314733\n",
       "            1                        324   1315  4.058642  3.512863\n",
       "Wednesday   0                      14169  65884  4.649869  5.128143\n",
       "            1                        564   2393  4.242908  4.944042"
      ]
     },
     "execution_count": 82,
     "metadata": {},
     "output_type": "execute_result"
    }
   ],
   "source": [
    "comb_df_with_area.loc[:, ['day_of_week', 'holiday_flg','reserve_visitors']] \\\n",
    "                 .groupby(['day_of_week', 'holiday_flg']) \\\n",
    "                 .agg(['count',np.sum, np.mean, np.std])"
   ]
  },
  {
   "cell_type": "code",
   "execution_count": 16,
   "metadata": {
    "collapsed": false
   },
   "outputs": [
    {
     "data": {
      "text/plain": [
       "'data_2018110_1520.csv'"
      ]
     },
     "execution_count": 16,
     "metadata": {},
     "output_type": "execute_result"
    }
   ],
   "source": [
    "# file_name = 'mon_xholiday_291220171510.csv'\n",
    "\n",
    "timenow = datetime.now()\n",
    "data_name = 'data'\n",
    "file_name = data_name + '_' + str(timenow.year) + str(timenow.month) + str(timenow.day) + '_' + str(timenow.hour) + \\\n",
    "            str(timenow.minute) + '.csv'\n",
    "file_name\n",
    "# mon_xholiday3.loc[:,'reserve_visitors'].to_csv(file_name, sep=',')"
   ]
  },
  {
   "cell_type": "code",
   "execution_count": 17,
   "metadata": {
    "collapsed": false
   },
   "outputs": [
    {
     "data": {
      "text/plain": [
       "478"
      ]
     },
     "execution_count": 17,
     "metadata": {},
     "output_type": "execute_result"
    }
   ],
   "source": [
    "data_air_visit_data['visit_date'].drop_duplicates().count()"
   ]
  }
 ],
 "metadata": {
  "kernelspec": {
   "display_name": "Python 3",
   "language": "python",
   "name": "python3"
  },
  "language_info": {
   "codemirror_mode": {
    "name": "ipython",
    "version": 2
   },
   "file_extension": ".py",
   "mimetype": "text/x-python",
   "name": "python",
   "nbconvert_exporter": "python",
   "pygments_lexer": "ipython2",
   "version": "2.7.13"
  }
 },
 "nbformat": 4,
 "nbformat_minor": 2
}
